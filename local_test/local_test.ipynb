{
 "cells": [
  {
   "cell_type": "code",
   "execution_count": 11,
   "id": "09cafeb0-6a23-4772-9907-b6b7785a7348",
   "metadata": {},
   "outputs": [],
   "source": [
    "import os\n",
    "import requests\n",
    "import zipfile\n",
    "import json\n",
    "import pandas as pd\n",
    "# import matplotlib.pyplot as plt\n",
    "# import seaborn as sns"
   ]
  },
  {
   "cell_type": "code",
   "execution_count": 20,
   "id": "067001dd-34d4-4f71-b189-ddf4ad94f45b",
   "metadata": {},
   "outputs": [
    {
     "name": "stdout",
     "output_type": "stream",
     "text": [
      "Directories are ready.\n",
      "Data already downloaded and unzipped.\n"
     ]
    }
   ],
   "source": [
    "# --- Configuration ---\n",
    "# We'll focus on T20s for the initial EDA\n",
    "match_type = \"T20\"\n",
    "url = \"https://cricsheet.org/downloads/t20s_json.zip\"\n",
    "\n",
    "# Define local directories\n",
    "base_dir = \"cricsheet_eda\"\n",
    "zip_path = os.path.join(base_dir, f\"{match_type.lower()}.zip\")\n",
    "unzipped_dir = os.path.join(base_dir, f\"{match_type.lower()}_json\")\n",
    "\n",
    "# --- Setup ---\n",
    "# Create the local directories\n",
    "os.makedirs(base_dir, exist_ok=True)\n",
    "os.makedirs(unzipped_dir, exist_ok=True)\n",
    "\n",
    "print(\"Directories are ready.\")\n",
    "\n",
    "# --- Download and Unzip ---\n",
    "if not os.listdir(unzipped_dir):\n",
    "    print(f\"Downloading {match_type} data...\")\n",
    "    response = requests.get(url)\n",
    "    response.raise_for_status()\n",
    "    with open(zip_path, 'wb') as f:\n",
    "        f.write(response.content)\n",
    "    print(\"Download complete.\")\n",
    "\n",
    "    print(\"Unzipping data...\")\n",
    "    with zipfile.ZipFile(zip_path, 'r') as zip_ref:\n",
    "        zip_ref.extractall(unzipped_dir)\n",
    "    print(\"Unzip complete.\")\n",
    "else:\n",
    "    print(\"Data already downloaded and unzipped.\")\n",
    "\n",
    "# # Set plot style for better visuals\n",
    "# sns.set_style(\"whitegrid\")"
   ]
  },
  {
   "cell_type": "code",
   "execution_count": 22,
   "id": "2cbb169a-c750-4fe7-a097-c5120e7b5f14",
   "metadata": {},
   "outputs": [
    {
     "name": "stdout",
     "output_type": "stream",
     "text": [
      "Successfully loaded 4342 match files.\n",
      "------------------------------\n",
      "Top-level keys in the first match file:\n",
      "['meta', 'info', 'innings']\n",
      "\n",
      "'info' keys in the first match file:\n",
      "['balls_per_over', 'dates', 'event', 'gender', 'match_type', 'match_type_number', 'officials', 'outcome', 'overs', 'player_of_match', 'players', 'registry', 'season', 'team_type', 'teams', 'toss', 'venue']\n"
     ]
    }
   ],
   "source": [
    "# --- Load all JSON files into a list ---\n",
    "all_matches = []\n",
    "json_files_path = unzipped_dir\n",
    "\n",
    "# List all files, ignoring any non-JSON or README files\n",
    "file_names = [f for f in os.listdir(json_files_path) if f.endswith('.json') and not f.startswith('README')]\n",
    "\n",
    "for file_name in file_names:\n",
    "    file_path = os.path.join(json_files_path, file_name)\n",
    "    with open(file_path, 'r') as f:\n",
    "        try:\n",
    "            all_matches.append(json.load(f))\n",
    "        except json.JSONDecodeError:\n",
    "            print(f\"Warning: Could not decode JSON from {file_name}. Skipping.\")\n",
    "\n",
    "print(f\"Successfully loaded {len(all_matches)} match files.\")\n",
    "print(\"-\" * 30)\n",
    "\n",
    "# --- Inspect the structure of a single match ---\n",
    "if all_matches:\n",
    "    print(\"Top-level keys in the first match file:\")\n",
    "    print(list(all_matches[0].keys()))\n",
    "    print(\"\\n'info' keys in the first match file:\")\n",
    "    print(list(all_matches[0]['info'].keys()))"
   ]
  },
  {
   "cell_type": "code",
   "execution_count": 24,
   "id": "b88c5707-75af-4bc4-90a8-89a74204daef",
   "metadata": {},
   "outputs": [
    {
     "name": "stdout",
     "output_type": "stream",
     "text": [
      "Key                       |      Count |   Percentage\n",
      "-------------------------------------------------------\n",
      "balls_per_over            |       4342 |      100.00%\n",
      "dates                     |       4342 |      100.00%\n",
      "gender                    |       4342 |      100.00%\n",
      "match_type                |       4342 |      100.00%\n",
      "match_type_number         |       4342 |      100.00%\n",
      "outcome                   |       4342 |      100.00%\n",
      "overs                     |       4342 |      100.00%\n",
      "players                   |       4342 |      100.00%\n",
      "registry                  |       4342 |      100.00%\n",
      "season                    |       4342 |      100.00%\n",
      "team_type                 |       4342 |      100.00%\n",
      "teams                     |       4342 |      100.00%\n",
      "toss                      |       4342 |      100.00%\n",
      "venue                     |       4342 |      100.00%\n",
      "event                     |       4276 |       98.48%\n",
      "city                      |       4163 |       95.88%\n",
      "officials                 |       4130 |       95.12%\n",
      "player_of_match           |       3930 |       90.51%\n",
      "missing                   |        465 |       10.71%\n",
      "bowl_out                  |          2 |        0.05%\n",
      "supersubs                 |          1 |        0.02%\n"
     ]
    }
   ],
   "source": [
    "from collections import Counter\n",
    "\n",
    "# --- Count the frequency of each key in the 'info' dictionary ---\n",
    "info_key_counter = Counter()\n",
    "for match in all_matches:\n",
    "    info_key_counter.update(match['info'].keys())\n",
    "\n",
    "# --- Display the results in a readable format ---\n",
    "total_matches = len(all_matches)\n",
    "print(f\"{'Key':<25} | {'Count':>10} | {'Percentage':>12}\")\n",
    "print(\"-\" * 55)\n",
    "\n",
    "for key, count in info_key_counter.most_common():\n",
    "    percentage = f\"{(count / total_matches) * 100:.2f}%\"\n",
    "    print(f\"{key:<25} | {count:>10} | {percentage:>12}\")"
   ]
  },
  {
   "cell_type": "code",
   "execution_count": null,
   "id": "d1bc19e9-ae43-4f86-b4da-3e00393648ec",
   "metadata": {},
   "outputs": [],
   "source": []
  }
 ],
 "metadata": {
  "kernelspec": {
   "display_name": "Python (myenv)",
   "language": "python",
   "name": "myenv"
  },
  "language_info": {
   "codemirror_mode": {
    "name": "ipython",
    "version": 3
   },
   "file_extension": ".py",
   "mimetype": "text/x-python",
   "name": "python",
   "nbconvert_exporter": "python",
   "pygments_lexer": "ipython3",
   "version": "3.11.10"
  }
 },
 "nbformat": 4,
 "nbformat_minor": 5
}
